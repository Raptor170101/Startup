{
 "cells": [
  {
   "cell_type": "markdown",
   "metadata": {},
   "source": [
    "Linear  Regression"
   ]
  },
  {
   "cell_type": "markdown",
   "metadata": {},
   "source": [
    "Adapt the datas "
   ]
  },
  {
   "cell_type": "code",
   "execution_count": 1,
   "metadata": {},
   "outputs": [],
   "source": [
    "import pandas as pd\n",
    "from sklearn.preprocessing import LabelEncoder\n",
    "from sklearn.preprocessing import OneHotEncoder\n",
    "from sklearn.model_selection import train_test_split\n",
    "from sklearn.linear_model import LinearRegression\n",
    "from sklearn.metrics import mean_squared_error, r2_score\n",
    "import numpy as np"
   ]
  },
  {
   "cell_type": "code",
   "execution_count": 2,
   "metadata": {},
   "outputs": [],
   "source": [
    "df = pd.read_csv(\"Start-Up_final.csv\")"
   ]
  },
  {
   "cell_type": "code",
   "execution_count": 3,
   "metadata": {},
   "outputs": [],
   "source": [
    "df.drop(columns=\"Unnamed: 0\", inplace = True)\n",
    "\n",
    "df_final = df"
   ]
  },
  {
   "cell_type": "code",
   "execution_count": 4,
   "metadata": {},
   "outputs": [],
   "source": [
    "# Instanciation de l'encodeur\n",
    "encoder = LabelEncoder()  # sparse=False pour obtenir un DataFrame dense\n",
    "\n",
    "# Encodage\n",
    "encoded_array = encoder.fit_transform(df[['status']].values.ravel())\n",
    "\n",
    "# Transformation en DataFrame\n",
    "encoded_df = pd.DataFrame(encoded_array, columns=[\"status\"])\n",
    "\n",
    "# Fusionner avec le DataFrame initial et supprimer l'ancienne colonne\n",
    "df_final = pd.concat([df.drop(columns=['status']), encoded_df], axis=1)\n"
   ]
  },
  {
   "cell_type": "code",
   "execution_count": 5,
   "metadata": {},
   "outputs": [
    {
     "data": {
      "text/html": [
       "<div>\n",
       "<style scoped>\n",
       "    .dataframe tbody tr th:only-of-type {\n",
       "        vertical-align: middle;\n",
       "    }\n",
       "\n",
       "    .dataframe tbody tr th {\n",
       "        vertical-align: top;\n",
       "    }\n",
       "\n",
       "    .dataframe thead th {\n",
       "        text-align: right;\n",
       "    }\n",
       "</style>\n",
       "<table border=\"1\" class=\"dataframe\">\n",
       "  <thead>\n",
       "    <tr style=\"text-align: right;\">\n",
       "      <th></th>\n",
       "      <th>category_list</th>\n",
       "      <th>funding_total_usd</th>\n",
       "      <th>country_code</th>\n",
       "      <th>funding_rounds</th>\n",
       "      <th>founded_at</th>\n",
       "      <th>first_funding_at</th>\n",
       "      <th>last_funding_at</th>\n",
       "      <th>status</th>\n",
       "    </tr>\n",
       "  </thead>\n",
       "  <tbody>\n",
       "    <tr>\n",
       "      <th>0</th>\n",
       "      <td>Media</td>\n",
       "      <td>10000000</td>\n",
       "      <td>IND</td>\n",
       "      <td>1</td>\n",
       "      <td>NaN</td>\n",
       "      <td>2015-01-05</td>\n",
       "      <td>2015-01-05</td>\n",
       "      <td>3</td>\n",
       "    </tr>\n",
       "    <tr>\n",
       "      <th>1</th>\n",
       "      <td>Social Network Media</td>\n",
       "      <td>700000</td>\n",
       "      <td>USA</td>\n",
       "      <td>2</td>\n",
       "      <td>2014-09-04</td>\n",
       "      <td>2014-03-01</td>\n",
       "      <td>2014-10-14</td>\n",
       "      <td>3</td>\n",
       "    </tr>\n",
       "    <tr>\n",
       "      <th>2</th>\n",
       "      <td>Mobile</td>\n",
       "      <td>3406878</td>\n",
       "      <td>NaN</td>\n",
       "      <td>1</td>\n",
       "      <td>NaN</td>\n",
       "      <td>2014-01-30</td>\n",
       "      <td>2014-01-30</td>\n",
       "      <td>3</td>\n",
       "    </tr>\n",
       "    <tr>\n",
       "      <th>3</th>\n",
       "      <td>Curated Web</td>\n",
       "      <td>2000000</td>\n",
       "      <td>CHN</td>\n",
       "      <td>1</td>\n",
       "      <td>2007-01-01</td>\n",
       "      <td>2008-03-19</td>\n",
       "      <td>2008-03-19</td>\n",
       "      <td>3</td>\n",
       "    </tr>\n",
       "    <tr>\n",
       "      <th>4</th>\n",
       "      <td>Software</td>\n",
       "      <td>-</td>\n",
       "      <td>USA</td>\n",
       "      <td>1</td>\n",
       "      <td>2010-01-01</td>\n",
       "      <td>2014-07-24</td>\n",
       "      <td>2014-07-24</td>\n",
       "      <td>3</td>\n",
       "    </tr>\n",
       "    <tr>\n",
       "      <th>...</th>\n",
       "      <td>...</td>\n",
       "      <td>...</td>\n",
       "      <td>...</td>\n",
       "      <td>...</td>\n",
       "      <td>...</td>\n",
       "      <td>...</td>\n",
       "      <td>...</td>\n",
       "      <td>...</td>\n",
       "    </tr>\n",
       "    <tr>\n",
       "      <th>66363</th>\n",
       "      <td>Enterprise Software</td>\n",
       "      <td>1587301</td>\n",
       "      <td>CHN</td>\n",
       "      <td>1</td>\n",
       "      <td>NaN</td>\n",
       "      <td>2012-04-01</td>\n",
       "      <td>2012-04-01</td>\n",
       "      <td>3</td>\n",
       "    </tr>\n",
       "    <tr>\n",
       "      <th>66364</th>\n",
       "      <td>Mobile</td>\n",
       "      <td>114304</td>\n",
       "      <td>HRV</td>\n",
       "      <td>4</td>\n",
       "      <td>2012-05-13</td>\n",
       "      <td>2011-11-01</td>\n",
       "      <td>2014-03-01</td>\n",
       "      <td>3</td>\n",
       "    </tr>\n",
       "    <tr>\n",
       "      <th>66365</th>\n",
       "      <td>unknown</td>\n",
       "      <td>-</td>\n",
       "      <td>NaN</td>\n",
       "      <td>1</td>\n",
       "      <td>2011-01-01</td>\n",
       "      <td>2014-08-01</td>\n",
       "      <td>2014-08-01</td>\n",
       "      <td>3</td>\n",
       "    </tr>\n",
       "    <tr>\n",
       "      <th>66366</th>\n",
       "      <td>Telecommunications</td>\n",
       "      <td>18192</td>\n",
       "      <td>USA</td>\n",
       "      <td>1</td>\n",
       "      <td>2014-01-01</td>\n",
       "      <td>2015-01-01</td>\n",
       "      <td>2015-01-01</td>\n",
       "      <td>3</td>\n",
       "    </tr>\n",
       "    <tr>\n",
       "      <th>66367</th>\n",
       "      <td>E-Commerce</td>\n",
       "      <td>14851</td>\n",
       "      <td>NaN</td>\n",
       "      <td>1</td>\n",
       "      <td>NaN</td>\n",
       "      <td>2013-10-01</td>\n",
       "      <td>2013-10-01</td>\n",
       "      <td>3</td>\n",
       "    </tr>\n",
       "  </tbody>\n",
       "</table>\n",
       "<p>66368 rows × 8 columns</p>\n",
       "</div>"
      ],
      "text/plain": [
       "              category_list funding_total_usd country_code  funding_rounds  \\\n",
       "0                     Media          10000000          IND               1   \n",
       "1      Social Network Media            700000          USA               2   \n",
       "2                    Mobile           3406878          NaN               1   \n",
       "3               Curated Web           2000000          CHN               1   \n",
       "4                  Software                 -          USA               1   \n",
       "...                     ...               ...          ...             ...   \n",
       "66363   Enterprise Software           1587301          CHN               1   \n",
       "66364                Mobile            114304          HRV               4   \n",
       "66365               unknown                 -          NaN               1   \n",
       "66366    Telecommunications             18192          USA               1   \n",
       "66367            E-Commerce             14851          NaN               1   \n",
       "\n",
       "       founded_at first_funding_at last_funding_at  status  \n",
       "0             NaN       2015-01-05      2015-01-05       3  \n",
       "1      2014-09-04       2014-03-01      2014-10-14       3  \n",
       "2             NaN       2014-01-30      2014-01-30       3  \n",
       "3      2007-01-01       2008-03-19      2008-03-19       3  \n",
       "4      2010-01-01       2014-07-24      2014-07-24       3  \n",
       "...           ...              ...             ...     ...  \n",
       "66363         NaN       2012-04-01      2012-04-01       3  \n",
       "66364  2012-05-13       2011-11-01      2014-03-01       3  \n",
       "66365  2011-01-01       2014-08-01      2014-08-01       3  \n",
       "66366  2014-01-01       2015-01-01      2015-01-01       3  \n",
       "66367         NaN       2013-10-01      2013-10-01       3  \n",
       "\n",
       "[66368 rows x 8 columns]"
      ]
     },
     "execution_count": 5,
     "metadata": {},
     "output_type": "execute_result"
    }
   ],
   "source": [
    "df_final"
   ]
  },
  {
   "cell_type": "markdown",
   "metadata": {},
   "source": [
    "Date"
   ]
  },
  {
   "cell_type": "code",
   "execution_count": 6,
   "metadata": {},
   "outputs": [
    {
     "name": "stdout",
     "output_type": "stream",
     "text": [
      "founded_at\n",
      "2012-01-01    2730\n",
      "Name: count, dtype: int64\n",
      "first_funding_at\n",
      "2014-01-01    565\n",
      "Name: count, dtype: int64\n",
      "last_funding_at\n",
      "2014-01-01    483\n",
      "Name: count, dtype: int64\n"
     ]
    }
   ],
   "source": [
    "print(df_final[\"founded_at\"].value_counts().head(1))\n",
    "print(df_final[\"first_funding_at\"].value_counts().head(1))\n",
    "print(df_final[\"last_funding_at\"].value_counts().head(1))"
   ]
  },
  {
   "cell_type": "code",
   "execution_count": 7,
   "metadata": {},
   "outputs": [],
   "source": [
    "df_final[\"last_funding_at\"] = pd.to_datetime(df_final[\"last_funding_at\"], format =\"%Y-%m-%d\" , errors =\"coerce\")\n",
    "\n",
    "df_final[\"last_funding_at\"] = df_final[\"last_funding_at\"].dt.year.astype(\"Int64\")\n",
    "\n",
    "df_final[\"first_funding_at\"] = pd.to_datetime(df_final[\"first_funding_at\"], format =\"%Y-%m-%d\", errors = \"coerce\")\n",
    "\n",
    "df_final[\"first_funding_at\"] = df_final[\"first_funding_at\"].dt.year.astype(\"Int64\")\n",
    "\n",
    "df_final[\"founded_at\"] = pd.to_datetime(df_final[\"founded_at\"], format =\"%Y-%m-%d\", errors = \"coerce\")\n",
    "\n",
    "df_final[\"founded_at\"] = df_final[\"founded_at\"].dt.year.astype(\"Int64\")\n",
    "\n",
    "df_final[\"last_funding_at\"] = df_final[\"last_funding_at\"].fillna(2015).astype(\"Int64\")\n",
    "df_final[\"first_funding_at\"] = df_final[\"first_funding_at\"].fillna(2014).astype(\"Int64\")\n",
    "df_final[\"founded_at\"] = df_final[\"founded_at\"].fillna(2012).astype(\"Int64\")"
   ]
  },
  {
   "cell_type": "markdown",
   "metadata": {},
   "source": [
    "Countries"
   ]
  },
  {
   "cell_type": "markdown",
   "metadata": {},
   "source": [
    "We merge together the countries that had extremly small start-up (10 or less) in order to reduce noise and the possibility of overfitting"
   ]
  },
  {
   "cell_type": "code",
   "execution_count": 8,
   "metadata": {},
   "outputs": [],
   "source": [
    "threshold = 10  # Seuil pour définir un pays rare\n",
    "country_counts = df['country_code'].value_counts()\n",
    "\n",
    "df_final['country_code'] = df_final['country_code'].apply(lambda x: x if country_counts.get(x, 0) > threshold else 'Other')\n"
   ]
  },
  {
   "cell_type": "code",
   "execution_count": 9,
   "metadata": {},
   "outputs": [],
   "source": [
    "label_encoder = LabelEncoder()\n",
    "\n",
    "df_final[\"country_code\"] = label_encoder.fit_transform(df_final[\"country_code\"])\n"
   ]
  },
  {
   "cell_type": "markdown",
   "metadata": {},
   "source": [
    "Category_list"
   ]
  },
  {
   "cell_type": "code",
   "execution_count": 10,
   "metadata": {},
   "outputs": [],
   "source": [
    "df_final[\"category_list\"] = label_encoder.fit_transform(df_final[\"category_list\"])"
   ]
  },
  {
   "cell_type": "code",
   "execution_count": 11,
   "metadata": {},
   "outputs": [
    {
     "data": {
      "text/html": [
       "<div>\n",
       "<style scoped>\n",
       "    .dataframe tbody tr th:only-of-type {\n",
       "        vertical-align: middle;\n",
       "    }\n",
       "\n",
       "    .dataframe tbody tr th {\n",
       "        vertical-align: top;\n",
       "    }\n",
       "\n",
       "    .dataframe thead th {\n",
       "        text-align: right;\n",
       "    }\n",
       "</style>\n",
       "<table border=\"1\" class=\"dataframe\">\n",
       "  <thead>\n",
       "    <tr style=\"text-align: right;\">\n",
       "      <th></th>\n",
       "      <th>category_list</th>\n",
       "      <th>funding_total_usd</th>\n",
       "      <th>country_code</th>\n",
       "      <th>funding_rounds</th>\n",
       "      <th>founded_at</th>\n",
       "      <th>first_funding_at</th>\n",
       "      <th>last_funding_at</th>\n",
       "      <th>status</th>\n",
       "    </tr>\n",
       "  </thead>\n",
       "  <tbody>\n",
       "    <tr>\n",
       "      <th>0</th>\n",
       "      <td>32</td>\n",
       "      <td>10000000</td>\n",
       "      <td>30</td>\n",
       "      <td>1</td>\n",
       "      <td>2012</td>\n",
       "      <td>2015</td>\n",
       "      <td>2015</td>\n",
       "      <td>3</td>\n",
       "    </tr>\n",
       "    <tr>\n",
       "      <th>1</th>\n",
       "      <td>55</td>\n",
       "      <td>700000</td>\n",
       "      <td>68</td>\n",
       "      <td>2</td>\n",
       "      <td>2014</td>\n",
       "      <td>2014</td>\n",
       "      <td>2014</td>\n",
       "      <td>3</td>\n",
       "    </tr>\n",
       "    <tr>\n",
       "      <th>2</th>\n",
       "      <td>36</td>\n",
       "      <td>3406878</td>\n",
       "      <td>49</td>\n",
       "      <td>1</td>\n",
       "      <td>2012</td>\n",
       "      <td>2014</td>\n",
       "      <td>2014</td>\n",
       "      <td>3</td>\n",
       "    </tr>\n",
       "    <tr>\n",
       "      <th>3</th>\n",
       "      <td>12</td>\n",
       "      <td>2000000</td>\n",
       "      <td>11</td>\n",
       "      <td>1</td>\n",
       "      <td>2007</td>\n",
       "      <td>2008</td>\n",
       "      <td>2008</td>\n",
       "      <td>3</td>\n",
       "    </tr>\n",
       "    <tr>\n",
       "      <th>4</th>\n",
       "      <td>56</td>\n",
       "      <td>-</td>\n",
       "      <td>68</td>\n",
       "      <td>1</td>\n",
       "      <td>2010</td>\n",
       "      <td>2014</td>\n",
       "      <td>2014</td>\n",
       "      <td>3</td>\n",
       "    </tr>\n",
       "    <tr>\n",
       "      <th>...</th>\n",
       "      <td>...</td>\n",
       "      <td>...</td>\n",
       "      <td>...</td>\n",
       "      <td>...</td>\n",
       "      <td>...</td>\n",
       "      <td>...</td>\n",
       "      <td>...</td>\n",
       "      <td>...</td>\n",
       "    </tr>\n",
       "    <tr>\n",
       "      <th>66363</th>\n",
       "      <td>18</td>\n",
       "      <td>1587301</td>\n",
       "      <td>11</td>\n",
       "      <td>1</td>\n",
       "      <td>2012</td>\n",
       "      <td>2012</td>\n",
       "      <td>2012</td>\n",
       "      <td>3</td>\n",
       "    </tr>\n",
       "    <tr>\n",
       "      <th>66364</th>\n",
       "      <td>36</td>\n",
       "      <td>114304</td>\n",
       "      <td>49</td>\n",
       "      <td>4</td>\n",
       "      <td>2012</td>\n",
       "      <td>2011</td>\n",
       "      <td>2014</td>\n",
       "      <td>3</td>\n",
       "    </tr>\n",
       "    <tr>\n",
       "      <th>66365</th>\n",
       "      <td>65</td>\n",
       "      <td>-</td>\n",
       "      <td>49</td>\n",
       "      <td>1</td>\n",
       "      <td>2011</td>\n",
       "      <td>2014</td>\n",
       "      <td>2014</td>\n",
       "      <td>3</td>\n",
       "    </tr>\n",
       "    <tr>\n",
       "      <th>66366</th>\n",
       "      <td>60</td>\n",
       "      <td>18192</td>\n",
       "      <td>68</td>\n",
       "      <td>1</td>\n",
       "      <td>2014</td>\n",
       "      <td>2015</td>\n",
       "      <td>2015</td>\n",
       "      <td>3</td>\n",
       "    </tr>\n",
       "    <tr>\n",
       "      <th>66367</th>\n",
       "      <td>15</td>\n",
       "      <td>14851</td>\n",
       "      <td>49</td>\n",
       "      <td>1</td>\n",
       "      <td>2012</td>\n",
       "      <td>2013</td>\n",
       "      <td>2013</td>\n",
       "      <td>3</td>\n",
       "    </tr>\n",
       "  </tbody>\n",
       "</table>\n",
       "<p>66368 rows × 8 columns</p>\n",
       "</div>"
      ],
      "text/plain": [
       "       category_list funding_total_usd  country_code  funding_rounds  \\\n",
       "0                 32          10000000            30               1   \n",
       "1                 55            700000            68               2   \n",
       "2                 36           3406878            49               1   \n",
       "3                 12           2000000            11               1   \n",
       "4                 56                 -            68               1   \n",
       "...              ...               ...           ...             ...   \n",
       "66363             18           1587301            11               1   \n",
       "66364             36            114304            49               4   \n",
       "66365             65                 -            49               1   \n",
       "66366             60             18192            68               1   \n",
       "66367             15             14851            49               1   \n",
       "\n",
       "       founded_at  first_funding_at  last_funding_at  status  \n",
       "0            2012              2015             2015       3  \n",
       "1            2014              2014             2014       3  \n",
       "2            2012              2014             2014       3  \n",
       "3            2007              2008             2008       3  \n",
       "4            2010              2014             2014       3  \n",
       "...           ...               ...              ...     ...  \n",
       "66363        2012              2012             2012       3  \n",
       "66364        2012              2011             2014       3  \n",
       "66365        2011              2014             2014       3  \n",
       "66366        2014              2015             2015       3  \n",
       "66367        2012              2013             2013       3  \n",
       "\n",
       "[66368 rows x 8 columns]"
      ]
     },
     "execution_count": 11,
     "metadata": {},
     "output_type": "execute_result"
    }
   ],
   "source": [
    "df_final"
   ]
  },
  {
   "cell_type": "code",
   "execution_count": 12,
   "metadata": {},
   "outputs": [],
   "source": [
    "df_final[\"funding_total_usd\"] = pd.to_numeric(df_final[\"funding_total_usd\"], errors=\"coerce\")\n",
    "\n",
    "df_final.dropna(subset=['funding_total_usd'], inplace=True)\n",
    "\n"
   ]
  },
  {
   "cell_type": "markdown",
   "metadata": {},
   "source": [
    "Logistic regression"
   ]
  },
  {
   "cell_type": "code",
   "execution_count": 13,
   "metadata": {},
   "outputs": [],
   "source": [
    "from sklearn.linear_model import LogisticRegression\n",
    "from sklearn.preprocessing import StandardScaler\n",
    "\n",
    "\n",
    "\n",
    "X = df_final.drop(columns=[\"status\"])  # Features\n",
    "y = df_final[\"status\"]  # Cible\n",
    "\n",
    "# Split train-test\n",
    "X_train, X_test, y_train, y_test = train_test_split(X, y, test_size=0.2, random_state=42)\n",
    "\n",
    "# Normalisation des features\n",
    "scaler = StandardScaler()\n",
    "X_train_scaled = scaler.fit_transform(X_train)  # Fit + transform sur train\n",
    "X_test_scaled = scaler.transform(X_test)  # Seulement transform sur test (sans refit)\n",
    "\n",
    "# 🔹 Correction : Rétablir le DataFrame avec les bons index\n",
    "X_train_scaled = pd.DataFrame(X_train_scaled, columns=X.columns, index=X_train.index)\n",
    "X_test_scaled = pd.DataFrame(X_test_scaled, columns=X.columns, index=X_test.index)\n",
    "\n",
    "# Création du modèle et entraînement\n",
    "model = LogisticRegression(solver=\"lbfgs\", max_iter=10000)\n",
    "model.fit(X_train_scaled, y_train)\n",
    "\n",
    "# Prédictions\n",
    "y_pred = model.predict(X_test_scaled)\n",
    "\n",
    "\n"
   ]
  },
  {
   "cell_type": "code",
   "execution_count": 14,
   "metadata": {},
   "outputs": [
    {
     "name": "stdout",
     "output_type": "stream",
     "text": [
      "R² Score : -0.21\n",
      "MSE : 1.17\n",
      "RMSE : 1.08\n"
     ]
    }
   ],
   "source": [
    "\n",
    "# Calcul des métriques\n",
    "r2 = r2_score(y_test, y_pred)\n",
    "mse = mean_squared_error(y_test, y_pred)\n",
    "rmse = mse ** 0.5  # Racine carrée du MSE\n",
    "\n",
    "print(f\"R² Score : {r2:.2f}\")\n",
    "print(f\"MSE : {mse:.2f}\")\n",
    "print(f\"RMSE : {rmse:.2f}\")"
   ]
  },
  {
   "cell_type": "markdown",
   "metadata": {},
   "source": [
    "Random Forest"
   ]
  },
  {
   "cell_type": "code",
   "execution_count": 15,
   "metadata": {},
   "outputs": [],
   "source": [
    "from sklearn.ensemble import RandomForestClassifier\n",
    "from sklearn.ensemble import RandomForestRegressor\n",
    "from sklearn.model_selection import train_test_split\n",
    "from sklearn.metrics import accuracy_score, classification_report, confusion_matrix, mean_squared_error\n",
    "import pandas as pd\n",
    "import seaborn as sns\n",
    "import matplotlib.pyplot as plt\n",
    "\n",
    "\n",
    "\n",
    "\n",
    "df = pd.read_csv(\"final_Start-Up.csv\")\n",
    "\n",
    "df[\"last_funding_at\"] = pd.to_datetime(df[\"last_funding_at\"], format =\"%Y-%m-%d\" , errors =\"coerce\")\n",
    "\n",
    "df[\"last_funding_at\"] = df[\"last_funding_at\"].dt.year.astype(\"Int64\")\n",
    "\n",
    "df[\"first_funding_at\"] = pd.to_datetime(df[\"first_funding_at\"], format =\"%Y-%m-%d\", errors = \"coerce\")\n",
    "\n",
    "df[\"first_funding_at\"] = df[\"first_funding_at\"].dt.year.astype(\"Int64\")\n",
    "\n",
    "df[\"founded_at\"] = pd.to_datetime(df[\"founded_at\"], format =\"%Y-%m-%d\", errors = \"coerce\")\n",
    "\n",
    "df[\"founded_at\"] = df[\"founded_at\"].dt.year.astype(\"Int64\")\n",
    "\n",
    "df[\"last_funding_at\"] = df[\"last_funding_at\"].fillna(2015).astype(\"Int64\")\n",
    "df[\"first_funding_at\"] = df[\"first_funding_at\"].fillna(2014).astype(\"Int64\")\n",
    "df[\"founded_at\"] = df[\"founded_at\"].fillna(2012).astype(\"Int64\")\n",
    "\n",
    "\n",
    "\n"
   ]
  },
  {
   "cell_type": "code",
   "execution_count": 20,
   "metadata": {},
   "outputs": [],
   "source": [
    "X = df_final.drop(columns=\"status\")\n",
    "y = df_final[\"status\"]\n",
    "\n",
    "\n",
    "X_train, X_test, y_train, y_test = train_test_split(X, y, test_size=0.2, random_state=42)\n",
    "\n",
    "\n",
    "model = RandomForestClassifier(n_estimators=100,class_weight=\"balanced\" ,random_state=42)\n",
    "\n",
    "# Entraînement du modèle\n",
    "model.fit(X_train, y_train)\n",
    "\n",
    "# Prédictions\n",
    "y_pred = model.predict(X_test)"
   ]
  },
  {
   "cell_type": "code",
   "execution_count": null,
   "metadata": {},
   "outputs": [],
   "source": [
    "from xgboost import XGBClassifier\n",
    "\n",
    "model = XGBClassifier(n_estimators=100, random_state=42)\n",
    "model.fit(X_train, y_train)\n",
    "y_pred = model.predict(X_test)\n"
   ]
  },
  {
   "cell_type": "code",
   "execution_count": 21,
   "metadata": {},
   "outputs": [
    {
     "name": "stdout",
     "output_type": "stream",
     "text": [
      "✅ Accuracy : 0.78\n",
      "\n",
      "📊 Classification Report :\n",
      "               precision    recall  f1-score   support\n",
      "\n",
      "           0       0.40      0.25      0.31       941\n",
      "           1       0.37      0.15      0.21      1015\n",
      "           2       0.41      0.08      0.13       302\n",
      "           3       0.82      0.94      0.88      8459\n",
      "\n",
      "    accuracy                           0.78     10717\n",
      "   macro avg       0.50      0.36      0.38     10717\n",
      "weighted avg       0.73      0.78      0.74     10717\n",
      "\n"
     ]
    },
    {
     "data": {
      "image/png": "[encoded data removed]",
      "text/plain": [
       "<Figure size 600x400 with 2 Axes>"
      ]
     },
     "metadata": {},
     "output_type": "display_data"
    }
   ],
   "source": [
    "# Accuracy\n",
    "accuracy = accuracy_score(y_test, y_pred)\n",
    "print(f\"✅ Accuracy : {accuracy:.2f}\")\n",
    "\n",
    "# Rapport détaillé (Precision, Recall, F1-score)\n",
    "print(\"\\n📊 Classification Report :\\n\", classification_report(y_test, y_pred))\n",
    "\n",
    "# Matrice de confusion\n",
    "cm = confusion_matrix(y_test, y_pred)\n",
    "plt.figure(figsize=(6, 4))\n",
    "sns.heatmap(cm, annot=True, fmt=\"d\", cmap=\"Blues\", xticklabels=model.classes_, yticklabels=model.classes_)\n",
    "plt.xlabel(\"Prédictions\")\n",
    "plt.ylabel(\"Vraies valeurs\")\n",
    "plt.title(\"Matrice de Confusion\")\n",
    "plt.show()\n"
   ]
  },
  {
   "cell_type": "code",
   "execution_count": 22,
   "metadata": {},
   "outputs": [
    {
     "data": {
      "image/png": "[encoded data removed]",
      "text/plain": [
       "<Figure size 640x480 with 2 Axes>"
      ]
     },
     "metadata": {},
     "output_type": "display_data"
    }
   ],
   "source": [
    "import seaborn as sns\n",
    "\n",
    "corr = df_final.corr()\n",
    "sns.heatmap(corr, annot=True, cmap=\"coolwarm\")\n",
    "plt.show()\n"
   ]
  }
 ],
 "metadata": {
  "kernelspec": {
   "display_name": "Python 3",
   "language": "python",
   "name": "python3"
  },
  "language_info": {
   "codemirror_mode": {
    "name": "ipython",
    "version": 3
   },
   "file_extension": ".py",
   "mimetype": "text/x-python",
   "name": "python",
   "nbconvert_exporter": "python",
   "pygments_lexer": "ipython3",
   "version": "3.12.3"
  }
 },
 "nbformat": 4,
 "nbformat_minor": 2
}
