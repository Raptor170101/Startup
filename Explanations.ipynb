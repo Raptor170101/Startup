{
 "cells": [
  {
   "cell_type": "markdown",
   "metadata": {},
   "source": [
    "We want to predict if start-up will be a success or a failure\n",
    "\n",
    "We need to determine what is a success and a failure\n",
    "\n",
    "We need to have a clear understang of the data"
   ]
  },
  {
   "cell_type": "markdown",
   "metadata": {},
   "source": [
    "EDA  :\n",
    "\n",
    "The dataset contains 14 columns \n",
    "\n",
    "We start by removing the columns that doesn't gives us any usefull informations (name, url and pemalink)\n",
    "\n",
    "We have now 11 columns :\n",
    "    - 2 numerical columns\n",
    "    - 6 categorical columns\n",
    "    - 3 dates columns\n",
    "\n",
    "\n",
    "\n"
   ]
  },
  {
   "cell_type": "markdown",
   "metadata": {},
   "source": []
  }
 ],
 "metadata": {
  "kernelspec": {
   "display_name": "Python 3",
   "language": "python",
   "name": "python3"
  },
  "language_info": {
   "codemirror_mode": {
    "name": "ipython",
    "version": 3
   },
   "file_extension": ".py",
   "mimetype": "text/x-python",
   "name": "python",
   "nbconvert_exporter": "python",
   "pygments_lexer": "ipython3",
   "version": "3.12.3"
  }
 },
 "nbformat": 4,
 "nbformat_minor": 2
}
