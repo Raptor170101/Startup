{
 "cells": [
  {
   "cell_type": "markdown",
   "metadata": {},
   "source": [
    "In this section, we will modify the CSV to obtain a version that meets our needs."
   ]
  },
  {
   "cell_type": "markdown",
   "metadata": {},
   "source": [
    "Let's start by removing the columns that are not relevant to us."
   ]
  },
  {
   "cell_type": "code",
   "execution_count": 61,
   "metadata": {},
   "outputs": [],
   "source": [
    "#Importations \n",
    "\n",
    "import pandas as pd\n"
   ]
  },
  {
   "cell_type": "code",
   "execution_count": 62,
   "metadata": {},
   "outputs": [],
   "source": [
    "# Original File\n",
    "df = pd.read_csv(\"Start-Up_initial.csv\")\n",
    "\n",
    "df.drop(columns = [\"permalink\", \"name\",\"homepage_url\",\"region\",\"state_code\",\"city\"], inplace = True)\n",
    "\n",
    "df.to_csv(\"Start_Up.csv\", index=False)\n"
   ]
  },
  {
   "cell_type": "markdown",
   "metadata": {},
   "source": [
    "Now that we have only the necessary columns, we will also modify them to make them usable.\n",
    "\n",
    "### **Column Overview:**\n",
    "- **category_list**: Contains the industry sector of the start-up.  \n",
    "- **funding_total_usd**: Contains the total value of funds raised.  \n",
    "- **status**: Indicates the status of the start-up.  \n",
    "- **country_code**: The country where the start-up is established.  \n",
    "- **funding_rounds**: The number of funding rounds.  \n",
    "- **founded_at**: The date of creation.  \n",
    "- **first_funding_at**: The date of the first funding round.  \n",
    "- **last_funding_at**: The date of the last funding round.  \n",
    "\n",
    "We will now process these columns to ensure they are correctly formatted and usable."
   ]
  },
  {
   "cell_type": "markdown",
   "metadata": {},
   "source": [
    "The **category_list** column contains a large number of categories, with multiple categories assigned to some start-ups. To ensure a coherent analysis, we will:  \n",
    "\n",
    "1. **Reduce the number of categories per start-up to just one.**  \n",
    "2. **Simplify and consolidate categories to reduce overall category count.**  \n",
    "\n",
    "This will allow for a clearer and more structured analysis of the data. Let's proceed with these modifications."
   ]
  },
  {
   "cell_type": "code",
   "execution_count": 63,
   "metadata": {},
   "outputs": [],
   "source": [
    "# We access the modified file\n",
    "df = pd.read_csv(\"Start_Up.csv\")\n",
    "\n",
    "# We create a row for each category of every Start-Up in order to count the number of occurrences of each category.\n",
    "df_exploded = df.assign(category_list=df[\"category_list\"].str.split(\"|\")).explode(\"category_list\")\n",
    "\n",
    "# We fill the missed information\n",
    "df_exploded[\"category_list\"] = df_exploded[\"category_list\"].fillna(\"unknown\").astype(str)\n",
    "\n",
    "df[\"category_list\"] = df[\"category_list\"].fillna(\"unknown\").astype(str)\n",
    "\n",
    "category_counts = df_exploded[\"category_list\"].value_counts()\n",
    "\n",
    "# We only keep the most represented category for eache Start-UP\n",
    "df[\"category_list\"] = df[\"category_list\"].apply(\n",
    "    lambda x: max(x.split(\"|\"), key=lambda cat: category_counts.get(cat, 0))\n",
    ")\n",
    "\n",
    "# Each Start-Up that had have a category that is represented less than 100 times in the dataset goes into an \"Other\" section\n",
    "seuil = 100\n",
    "\n",
    "category_counts = df[\"category_list\"].value_counts()\n",
    "\n",
    "df[\"category_list\"] = df[\"category_list\"].apply(lambda x: x if category_counts[x] >= seuil else \"Other\")\n",
    "\n"
   ]
  },
  {
   "cell_type": "code",
   "execution_count": 64,
   "metadata": {},
   "outputs": [
    {
     "name": "stdout",
     "output_type": "stream",
     "text": [
      "#of categories 66\n",
      "category_list\n",
      "Software           8768\n",
      "Mobile             4989\n",
      "Other              4943\n",
      "Biotechnology      4544\n",
      "E-Commerce         3769\n",
      "                   ... \n",
      "Cloud Computing     121\n",
      "Nonprofits          118\n",
      "Nanotechnology      111\n",
      "Digital Media       103\n",
      "Recruiting          103\n",
      "Name: count, Length: 66, dtype: int64\n"
     ]
    }
   ],
   "source": [
    "print(\"#of categories\" , df[\"category_list\"].nunique())\n",
    "\n",
    "print(df[\"category_list\"].value_counts())"
   ]
  },
  {
   "cell_type": "markdown",
   "metadata": {},
   "source": [
    "We now have a total of 66 categories each containing at least 100 Start-Up, this column is now usable for analysis and modeling.\n",
    "\n",
    "All the others columns are already good to use."
   ]
  },
  {
   "cell_type": "code",
   "execution_count": 65,
   "metadata": {},
   "outputs": [],
   "source": [
    "df.to_csv(\"final_Start-Up.csv\")"
   ]
  }
 ],
 "metadata": {
  "kernelspec": {
   "display_name": "Python 3",
   "language": "python",
   "name": "python3"
  },
  "language_info": {
   "codemirror_mode": {
    "name": "ipython",
    "version": 3
   },
   "file_extension": ".py",
   "mimetype": "text/x-python",
   "name": "python",
   "nbconvert_exporter": "python",
   "pygments_lexer": "ipython3",
   "version": "3.12.3"
  }
 },
 "nbformat": 4,
 "nbformat_minor": 2
}
